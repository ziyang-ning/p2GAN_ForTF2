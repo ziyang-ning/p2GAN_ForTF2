{
 "cells": [
  {
   "cell_type": "code",
   "execution_count": null,
   "id": "18b1f89b",
   "metadata": {},
   "outputs": [],
   "source": [
    "#the imports\n",
    "import cv2\n",
    "import numpy as np\n",
    "#import tensorflow as tf\n",
    "import tensorflow.compat.v1 as tf\n",
    "import util\n",
    "import time\n",
    "#import that model:\n",
    "import import_ipynb\n",
    "import model\n",
    "\n",
    "import os\n",
    "#from argparse import ArgumentParser"
   ]
  },
  {
   "cell_type": "code",
   "execution_count": null,
   "id": "ad970368",
   "metadata": {},
   "outputs": [],
   "source": [
    "#The parameters\n",
    "imbatch_read     = util.imbatch_read\n",
    "img_write        = util.img_write\n",
    "pickup_list      = util.pickup_list\n",
    "ls_files_to_json = util.ls_files_to_json\n",
    "\n",
    "build_generator     = model.build_generator\n",
    "\n",
    "# args = build_parser().parse_args()\n",
    "\n",
    "#-----------------TODO: LOAD YOU MODEL AND IMAGES HERE-------------\n",
    "MODEL_SAVE_PATH = 'available_models/anime/'\n",
    "OUT_PATH = 'rendered_images/anime_pics/'\n",
    "IMGSRC_PATH = 'test_images/'\n",
    "\n",
    "if (not os.path.isdir(OUT_PATH)):\n",
    "\tos.makedirs(OUT_PATH)\n",
    "\n",
    "\n",
    "BATCH_SIZE  = 1\n",
    "FEED_SIZE   = 256\n",
    "NOISE_RATE  = 0\n",
    "#use_cpu, you can set this to True if GPU is not available\n",
    "USE_CPU = False\n",
    "\n",
    "DEVICE = ''\n",
    "if USE_CPU =='TRUE':\n",
    "\tDEVICE = '/cpu:0'\n",
    "    \n",
    "input_ls = ls_files_to_json(IMGSRC_PATH, ext=['png', 'bmp', 'jpg', 'jpeg'])\n",
    "CNT = len(input_ls)\n"
   ]
  },
  {
   "cell_type": "code",
   "execution_count": null,
   "id": "9f543927",
   "metadata": {},
   "outputs": [],
   "source": [
    "#start the render process\n",
    "\n",
    "gpu_options = tf.GPUOptions(allow_growth=True)\n",
    "\n",
    "with tf.device(DEVICE), tf.Session(config=tf.ConfigProto(gpu_options=gpu_options)) as sess:\n",
    "\tinput_r = tf.placeholder(tf.float32, shape=[BATCH_SIZE, FEED_SIZE, FEED_SIZE, 3], name='inpr')\n",
    "\tg_state = build_generator(input_r, name='generator')\n",
    "\tg_var_ls = tf.trainable_variables(scope='generator')\n",
    "\tsess.run(tf.global_variables_initializer())\n",
    "\tsaver = tf.train.Saver(g_var_ls)\n",
    "\tchkpt_fname = tf.train.latest_checkpoint(MODEL_SAVE_PATH)\n",
    "\tsaver.restore(sess, chkpt_fname)\n",
    "\t# Warm up network and test...\n",
    "\tnoise = np.random.normal(0, 1, size=(BATCH_SIZE, FEED_SIZE, FEED_SIZE, 3)).astype(np.float32)\n",
    "\tsess.run(g_state, feed_dict={input_r: noise})\n",
    "\t# Begin...\n",
    "\ttotal = int(CNT / BATCH_SIZE) + (1 if (CNT % BATCH_SIZE) != 0 else 0)\n",
    "\tfor offset in range(total):\n",
    "\t\tsub_ls  = pickup_list(input_ls, BATCH_SIZE, offset * BATCH_SIZE)\n",
    "\t\tsub_img, sls = imbatch_read(IMGSRC_PATH, sub_ls, (FEED_SIZE, FEED_SIZE))\n",
    "\t\tif NOISE_RATE != 0:\n",
    "\t\t\tnoise = np.random.normal(0, 1,\n",
    "\t\t\t\tsize=(BATCH_SIZE, FEED_SIZE, FEED_SIZE, 3)).astype(np.float32)\n",
    "\t\t\tsub_img = sub_img + noise * NOISE_RATE \n",
    "\t\ttime_start = time.time()\n",
    "\t\trender_batch = sess.run(g_state, feed_dict={input_r: sub_img})\n",
    "\t\tprint('Processing: %d/%d, network dataflow time: %f'%(offset + 1, total, time.time()-time_start))\n",
    "\t\tfor i in range(len(sls)):\n",
    "\t\t\timg_write(render_batch[i],\n",
    "\t\t\t\t\tOUT_PATH+'/%d_%d.jpg'%(offset, i),\n",
    "\t\t\t\tsls[i])# (FEED_SIZE, FEED_SIZE)) #"
   ]
  },
  {
   "cell_type": "code",
   "execution_count": null,
   "id": "0bdef918",
   "metadata": {},
   "outputs": [],
   "source": []
  }
 ],
 "metadata": {
  "kernelspec": {
   "display_name": "Python 3.10 (tensorflow)",
   "language": "python",
   "name": "tensorflow"
  },
  "language_info": {
   "codemirror_mode": {
    "name": "ipython",
    "version": 3
   },
   "file_extension": ".py",
   "mimetype": "text/x-python",
   "name": "python",
   "nbconvert_exporter": "python",
   "pygments_lexer": "ipython3",
   "version": "3.10.10"
  }
 },
 "nbformat": 4,
 "nbformat_minor": 5
}
